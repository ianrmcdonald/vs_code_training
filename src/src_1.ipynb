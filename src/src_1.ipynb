{
 "cells": [
  {
   "cell_type": "code",
   "execution_count": 1,
   "id": "97acd313",
   "metadata": {},
   "outputs": [
    {
     "name": "stdout",
     "output_type": "stream",
     "text": [
      "        num_legs  num_wings  num_specimen_seen\n",
      "falcon         2          2                 20\n",
      "dog            4          0                  2\n",
      "spider         8          0                  1\n",
      "fish           0          0                  8\n",
      "1.8364242235904238\n",
      "0    0.25\n",
      "1    0.50\n",
      "2    0.75\n",
      "3    1.00\n",
      "dtype: float64\n"
     ]
    }
   ],
   "source": [
    "import pandas as pd\n",
    "import numpy as np\n",
    "\n",
    "\n",
    "df = pd.DataFrame(\n",
    "    {\n",
    "        \"num_legs\": [2, 4, 8, 0],\n",
    "        \"num_wings\": [2, 0, 0, 0],\n",
    "        \"num_specimen_seen\": [20, 2, 1, 8],\n",
    "    },\n",
    "    index=[\"falcon\", \"dog\", \"spider\", \"fish\"],\n",
    ")\n",
    "print(df)\n",
    "\n",
    "df.head()\n",
    "\n",
    "mu, sigma = 0, 1  # mean and standard deviation\n",
    "s = np.random.normal(mu, sigma, 10)\n",
    "print(np.max(s))\n",
    "\n",
    "\n",
    "pd.factorize(s)\n",
    "\n",
    "\n",
    "data = pd.Series([0.25, 0.5, 0.75, 1.0])\n",
    "print(data)\n"
   ]
  }
 ],
 "metadata": {
  "kernelspec": {
   "display_name": "base",
   "language": "python",
   "name": "python3"
  },
  "language_info": {
   "codemirror_mode": {
    "name": "ipython",
    "version": 3
   },
   "file_extension": ".py",
   "mimetype": "text/x-python",
   "name": "python",
   "nbconvert_exporter": "python",
   "pygments_lexer": "ipython3",
   "version": "3.11.9"
  }
 },
 "nbformat": 4,
 "nbformat_minor": 5
}
